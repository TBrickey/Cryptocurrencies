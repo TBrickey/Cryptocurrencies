{
 "cells": [
  {
   "cell_type": "code",
   "execution_count": 14,
   "id": "043536b5",
   "metadata": {},
   "outputs": [],
   "source": [
    "#18.5.2\n",
    "import pandas as pd\n",
    "from sklearn.preprocessing import StandardScaler\n",
    "from sklearn.decomposition import PCA\n",
    "from sklearn.cluster import KMeans\n",
    "import hvplot.pandas"
   ]
  },
  {
   "cell_type": "code",
   "execution_count": 15,
   "id": "52495fcc",
   "metadata": {},
   "outputs": [
    {
     "data": {
      "text/html": [
       "<div>\n",
       "<style scoped>\n",
       "    .dataframe tbody tr th:only-of-type {\n",
       "        vertical-align: middle;\n",
       "    }\n",
       "\n",
       "    .dataframe tbody tr th {\n",
       "        vertical-align: top;\n",
       "    }\n",
       "\n",
       "    .dataframe thead th {\n",
       "        text-align: right;\n",
       "    }\n",
       "</style>\n",
       "<table border=\"1\" class=\"dataframe\">\n",
       "  <thead>\n",
       "    <tr style=\"text-align: right;\">\n",
       "      <th></th>\n",
       "      <th>sepal_length</th>\n",
       "      <th>sepal_width</th>\n",
       "      <th>petal_length</th>\n",
       "      <th>petal_width</th>\n",
       "    </tr>\n",
       "  </thead>\n",
       "  <tbody>\n",
       "    <tr>\n",
       "      <th>0</th>\n",
       "      <td>5.1</td>\n",
       "      <td>3.5</td>\n",
       "      <td>1.4</td>\n",
       "      <td>0.2</td>\n",
       "    </tr>\n",
       "    <tr>\n",
       "      <th>1</th>\n",
       "      <td>4.9</td>\n",
       "      <td>3.0</td>\n",
       "      <td>1.4</td>\n",
       "      <td>0.2</td>\n",
       "    </tr>\n",
       "    <tr>\n",
       "      <th>2</th>\n",
       "      <td>4.7</td>\n",
       "      <td>3.2</td>\n",
       "      <td>1.3</td>\n",
       "      <td>0.2</td>\n",
       "    </tr>\n",
       "    <tr>\n",
       "      <th>3</th>\n",
       "      <td>4.6</td>\n",
       "      <td>3.1</td>\n",
       "      <td>1.5</td>\n",
       "      <td>0.2</td>\n",
       "    </tr>\n",
       "    <tr>\n",
       "      <th>4</th>\n",
       "      <td>5.0</td>\n",
       "      <td>3.6</td>\n",
       "      <td>1.4</td>\n",
       "      <td>0.2</td>\n",
       "    </tr>\n",
       "  </tbody>\n",
       "</table>\n",
       "</div>"
      ],
      "text/plain": [
       "   sepal_length  sepal_width  petal_length  petal_width\n",
       "0           5.1          3.5           1.4          0.2\n",
       "1           4.9          3.0           1.4          0.2\n",
       "2           4.7          3.2           1.3          0.2\n",
       "3           4.6          3.1           1.5          0.2\n",
       "4           5.0          3.6           1.4          0.2"
      ]
     },
     "execution_count": 15,
     "metadata": {},
     "output_type": "execute_result"
    }
   ],
   "source": [
    "# Loading Data 18.3.2\n",
    "file_path = \"Resources/new_iris_data.csv\"\n",
    "df_iris = pd.read_csv(file_path)\n",
    "df_iris.head()"
   ]
  },
  {
   "cell_type": "code",
   "execution_count": 16,
   "id": "bea3f87c",
   "metadata": {},
   "outputs": [
    {
     "name": "stdout",
     "output_type": "stream",
     "text": [
      "[[-0.90068117  1.03205722 -1.3412724  -1.31297673]\n",
      " [-1.14301691 -0.1249576  -1.3412724  -1.31297673]\n",
      " [-1.38535265  0.33784833 -1.39813811 -1.31297673]\n",
      " [-1.50652052  0.10644536 -1.2844067  -1.31297673]\n",
      " [-1.02184904  1.26346019 -1.3412724  -1.31297673]]\n"
     ]
    }
   ],
   "source": [
    "# Standardize data with StandardScaler\n",
    "iris_scaled = StandardScaler().fit_transform(df_iris)\n",
    "print(iris_scaled[0:5])"
   ]
  },
  {
   "cell_type": "code",
   "execution_count": 17,
   "id": "63b60af3",
   "metadata": {},
   "outputs": [],
   "source": [
    "# Initialize PCA model\n",
    "pca = PCA(n_components=2)"
   ]
  },
  {
   "cell_type": "code",
   "execution_count": 18,
   "id": "90adc55e",
   "metadata": {},
   "outputs": [],
   "source": [
    "# Get two principal components for the iris data.\n",
    "iris_pca = pca.fit_transform(iris_scaled)"
   ]
  },
  {
   "cell_type": "code",
   "execution_count": 19,
   "id": "c2484594",
   "metadata": {},
   "outputs": [
    {
     "data": {
      "text/html": [
       "<div>\n",
       "<style scoped>\n",
       "    .dataframe tbody tr th:only-of-type {\n",
       "        vertical-align: middle;\n",
       "    }\n",
       "\n",
       "    .dataframe tbody tr th {\n",
       "        vertical-align: top;\n",
       "    }\n",
       "\n",
       "    .dataframe thead th {\n",
       "        text-align: right;\n",
       "    }\n",
       "</style>\n",
       "<table border=\"1\" class=\"dataframe\">\n",
       "  <thead>\n",
       "    <tr style=\"text-align: right;\">\n",
       "      <th></th>\n",
       "      <th>principal component 1</th>\n",
       "      <th>principal component 2</th>\n",
       "    </tr>\n",
       "  </thead>\n",
       "  <tbody>\n",
       "    <tr>\n",
       "      <th>0</th>\n",
       "      <td>-2.264542</td>\n",
       "      <td>0.505704</td>\n",
       "    </tr>\n",
       "    <tr>\n",
       "      <th>1</th>\n",
       "      <td>-2.086426</td>\n",
       "      <td>-0.655405</td>\n",
       "    </tr>\n",
       "    <tr>\n",
       "      <th>2</th>\n",
       "      <td>-2.367950</td>\n",
       "      <td>-0.318477</td>\n",
       "    </tr>\n",
       "    <tr>\n",
       "      <th>3</th>\n",
       "      <td>-2.304197</td>\n",
       "      <td>-0.575368</td>\n",
       "    </tr>\n",
       "    <tr>\n",
       "      <th>4</th>\n",
       "      <td>-2.388777</td>\n",
       "      <td>0.674767</td>\n",
       "    </tr>\n",
       "  </tbody>\n",
       "</table>\n",
       "</div>"
      ],
      "text/plain": [
       "   principal component 1  principal component 2\n",
       "0              -2.264542               0.505704\n",
       "1              -2.086426              -0.655405\n",
       "2              -2.367950              -0.318477\n",
       "3              -2.304197              -0.575368\n",
       "4              -2.388777               0.674767"
      ]
     },
     "execution_count": 19,
     "metadata": {},
     "output_type": "execute_result"
    }
   ],
   "source": [
    "# Transform PCA data to a DataFrame\n",
    "df_iris_pca = pd.DataFrame(data=iris_pca, columns=[\"principal component 1\", \n",
    "                                                   \"principal component 2\" ])\n",
    "df_iris_pca.head()"
   ]
  },
  {
   "cell_type": "code",
   "execution_count": 20,
   "id": "6184b151",
   "metadata": {},
   "outputs": [
    {
     "data": {
      "text/plain": [
       "array([0.72770452, 0.23030523])"
      ]
     },
     "execution_count": 20,
     "metadata": {},
     "output_type": "execute_result"
    }
   ],
   "source": [
    "# use explained_variance_ratio, fethc the explained variance\n",
    "pca.explained_variance_ratio_"
   ]
  },
  {
   "cell_type": "code",
   "execution_count": 21,
   "id": "d105312e",
   "metadata": {},
   "outputs": [
    {
     "name": "stderr",
     "output_type": "stream",
     "text": [
      "C:\\Users\\kdrni\\anaconda3\\envs\\PythonData\\envs\\mlenv\\lib\\site-packages\\sklearn\\cluster\\_kmeans.py:1037: UserWarning: KMeans is known to have a memory leak on Windows with MKL, when there are less chunks than available threads. You can avoid it by setting the environment variable OMP_NUM_THREADS=1.\n",
      "  \"KMeans is known to have a memory leak on Windows \"\n"
     ]
    },
    {
     "data": {},
     "metadata": {},
     "output_type": "display_data"
    },
    {
     "data": {
      "application/vnd.holoviews_exec.v0+json": "",
      "text/html": [
       "<div id='1503'>\n",
       "  <div class=\"bk-root\" id=\"e5e122b6-6f46-4515-aabe-6e3944e73b68\" data-root-id=\"1503\"></div>\n",
       "</div>\n",
       "<script type=\"application/javascript\">(function(root) {\n",
       "  function embed_document(root) {\n",
       "    var docs_json = {\"fae889be-1551-4e9a-a212-68b453d315dc\":{\"defs\":[{\"extends\":null,\"module\":null,\"name\":\"ReactiveHTML1\",\"overrides\":[],\"properties\":[]},{\"extends\":null,\"module\":null,\"name\":\"FlexBox1\",\"overrides\":[],\"properties\":[{\"default\":\"flex-start\",\"kind\":null,\"name\":\"align_content\"},{\"default\":\"flex-start\",\"kind\":null,\"name\":\"align_items\"},{\"default\":\"row\",\"kind\":null,\"name\":\"flex_direction\"},{\"default\":\"wrap\",\"kind\":null,\"name\":\"flex_wrap\"},{\"default\":\"flex-start\",\"kind\":null,\"name\":\"justify_content\"}]},{\"extends\":null,\"module\":null,\"name\":\"GridStack1\",\"overrides\":[],\"properties\":[{\"default\":\"warn\",\"kind\":null,\"name\":\"mode\"},{\"default\":null,\"kind\":null,\"name\":\"ncols\"},{\"default\":null,\"kind\":null,\"name\":\"nrows\"},{\"default\":true,\"kind\":null,\"name\":\"allow_resize\"},{\"default\":true,\"kind\":null,\"name\":\"allow_drag\"},{\"default\":[],\"kind\":null,\"name\":\"state\"}]},{\"extends\":null,\"module\":null,\"name\":\"click1\",\"overrides\":[],\"properties\":[{\"default\":\"\",\"kind\":null,\"name\":\"terminal_output\"},{\"default\":\"\",\"kind\":null,\"name\":\"debug_name\"},{\"default\":0,\"kind\":null,\"name\":\"clears\"}]},{\"extends\":null,\"module\":null,\"name\":\"NotificationAreaBase1\",\"overrides\":[],\"properties\":[{\"default\":\"bottom-right\",\"kind\":null,\"name\":\"position\"},{\"default\":0,\"kind\":null,\"name\":\"_clear\"}]},{\"extends\":null,\"module\":null,\"name\":\"NotificationArea1\",\"overrides\":[],\"properties\":[{\"default\":[],\"kind\":null,\"name\":\"notifications\"},{\"default\":\"bottom-right\",\"kind\":null,\"name\":\"position\"},{\"default\":0,\"kind\":null,\"name\":\"_clear\"},{\"default\":[{\"background\":\"#ffc107\",\"icon\":{\"className\":\"fas fa-exclamation-triangle\",\"color\":\"white\",\"tagName\":\"i\"},\"type\":\"warning\"},{\"background\":\"#007bff\",\"icon\":{\"className\":\"fas fa-info-circle\",\"color\":\"white\",\"tagName\":\"i\"},\"type\":\"info\"}],\"kind\":null,\"name\":\"types\"}]},{\"extends\":null,\"module\":null,\"name\":\"Notification\",\"overrides\":[],\"properties\":[{\"default\":null,\"kind\":null,\"name\":\"background\"},{\"default\":3000,\"kind\":null,\"name\":\"duration\"},{\"default\":null,\"kind\":null,\"name\":\"icon\"},{\"default\":\"\",\"kind\":null,\"name\":\"message\"},{\"default\":null,\"kind\":null,\"name\":\"notification_type\"},{\"default\":false,\"kind\":null,\"name\":\"_destroyed\"}]},{\"extends\":null,\"module\":null,\"name\":\"TemplateActions1\",\"overrides\":[],\"properties\":[{\"default\":0,\"kind\":null,\"name\":\"open_modal\"},{\"default\":0,\"kind\":null,\"name\":\"close_modal\"}]},{\"extends\":null,\"module\":null,\"name\":\"MaterialTemplateActions1\",\"overrides\":[],\"properties\":[{\"default\":0,\"kind\":null,\"name\":\"open_modal\"},{\"default\":0,\"kind\":null,\"name\":\"close_modal\"}]}],\"roots\":{\"references\":[{\"attributes\":{\"coordinates\":null,\"data_source\":{\"id\":\"1538\"},\"glyph\":{\"id\":\"1541\"},\"group\":null,\"hover_glyph\":null,\"muted_glyph\":{\"id\":\"1543\"},\"nonselection_glyph\":{\"id\":\"1542\"},\"selection_glyph\":{\"id\":\"1546\"},\"view\":{\"id\":\"1545\"}},\"id\":\"1544\",\"type\":\"GlyphRenderer\"},{\"attributes\":{\"source\":{\"id\":\"1538\"}},\"id\":\"1545\",\"type\":\"CDSView\"},{\"attributes\":{\"below\":[{\"id\":\"1517\"}],\"center\":[{\"id\":\"1520\"},{\"id\":\"1524\"}],\"height\":300,\"left\":[{\"id\":\"1521\"}],\"margin\":[5,5,5,5],\"min_border_bottom\":10,\"min_border_left\":10,\"min_border_right\":10,\"min_border_top\":10,\"renderers\":[{\"id\":\"1544\"}],\"sizing_mode\":\"fixed\",\"title\":{\"id\":\"1509\"},\"toolbar\":{\"id\":\"1531\"},\"width\":700,\"x_range\":{\"id\":\"1505\"},\"x_scale\":{\"id\":\"1513\"},\"y_range\":{\"id\":\"1506\"},\"y_scale\":{\"id\":\"1515\"}},\"id\":\"1508\",\"subtype\":\"Figure\",\"type\":\"Plot\"},{\"attributes\":{\"tools\":[{\"id\":\"1507\"},{\"id\":\"1525\"},{\"id\":\"1526\"},{\"id\":\"1527\"},{\"id\":\"1528\"},{\"id\":\"1529\"}]},\"id\":\"1531\",\"type\":\"Toolbar\"},{\"attributes\":{\"line_alpha\":0.1,\"line_color\":\"#30a2da\",\"line_width\":2,\"x\":{\"field\":\"k\"},\"y\":{\"field\":\"inertia\"}},\"id\":\"1542\",\"type\":\"Line\"},{\"attributes\":{\"bottom_units\":\"screen\",\"coordinates\":null,\"fill_alpha\":0.5,\"fill_color\":\"lightgrey\",\"group\":null,\"left_units\":\"screen\",\"level\":\"overlay\",\"line_alpha\":1.0,\"line_color\":\"black\",\"line_dash\":[4,4],\"line_width\":2,\"right_units\":\"screen\",\"syncable\":false,\"top_units\":\"screen\"},\"id\":\"1530\",\"type\":\"BoxAnnotation\"},{\"attributes\":{},\"id\":\"1525\",\"type\":\"SaveTool\"},{\"attributes\":{},\"id\":\"1526\",\"type\":\"PanTool\"},{\"attributes\":{},\"id\":\"1529\",\"type\":\"ResetTool\"},{\"attributes\":{},\"id\":\"1522\",\"type\":\"BasicTicker\"},{\"attributes\":{\"line_color\":\"#30a2da\",\"line_width\":2,\"x\":{\"field\":\"k\"},\"y\":{\"field\":\"inertia\"}},\"id\":\"1546\",\"type\":\"Line\"},{\"attributes\":{},\"id\":\"1527\",\"type\":\"WheelZoomTool\"},{\"attributes\":{},\"id\":\"1554\",\"type\":\"BasicTickFormatter\"},{\"attributes\":{\"line_color\":\"#30a2da\",\"line_width\":2,\"x\":{\"field\":\"k\"},\"y\":{\"field\":\"inertia\"}},\"id\":\"1541\",\"type\":\"Line\"},{\"attributes\":{\"children\":[{\"id\":\"1504\"},{\"id\":\"1508\"},{\"id\":\"1565\"}],\"margin\":[0,0,0,0],\"name\":\"Row01375\",\"tags\":[\"embedded\"]},\"id\":\"1503\",\"type\":\"Row\"},{\"attributes\":{\"overlay\":{\"id\":\"1530\"}},\"id\":\"1528\",\"type\":\"BoxZoomTool\"},{\"attributes\":{\"ticks\":[1,2,3,4,5,6,7,8,9,10]},\"id\":\"1547\",\"type\":\"FixedTicker\"},{\"attributes\":{\"data\":{\"inertia\":{\"__ndarray__\":\"ZTafYnL2gUAzbWBmntZoQKGmqsr9Bl1ATfWgT6xnVkDg0qR94pNQQAwzFtg6gkxAL4lQDTvuR0D2MOcNVaJDQOW1b3wwFkBA7C2/QpNqPEA=\",\"dtype\":\"float64\",\"order\":\"little\",\"shape\":[10]},\"k\":[1,2,3,4,5,6,7,8,9,10]},\"selected\":{\"id\":\"1539\"},\"selection_policy\":{\"id\":\"1562\"}},\"id\":\"1538\",\"type\":\"ColumnDataSource\"},{\"attributes\":{\"margin\":[5,5,5,5],\"name\":\"HSpacer01379\",\"sizing_mode\":\"stretch_width\"},\"id\":\"1504\",\"type\":\"Spacer\"},{\"attributes\":{},\"id\":\"1539\",\"type\":\"Selection\"},{\"attributes\":{},\"id\":\"1513\",\"type\":\"LinearScale\"},{\"attributes\":{},\"id\":\"1549\",\"type\":\"BasicTickFormatter\"},{\"attributes\":{\"coordinates\":null,\"group\":null,\"text\":\"Elbow Curve\",\"text_color\":\"black\",\"text_font_size\":\"12pt\"},\"id\":\"1509\",\"type\":\"Title\"},{\"attributes\":{},\"id\":\"1562\",\"type\":\"UnionRenderers\"},{\"attributes\":{\"axis\":{\"id\":\"1517\"},\"coordinates\":null,\"grid_line_color\":null,\"group\":null,\"ticker\":null},\"id\":\"1520\",\"type\":\"Grid\"},{\"attributes\":{\"callback\":null,\"renderers\":[{\"id\":\"1544\"}],\"tags\":[\"hv_created\"],\"tooltips\":[[\"k\",\"@{k}\"],[\"inertia\",\"@{inertia}\"]]},\"id\":\"1507\",\"type\":\"HoverTool\"},{\"attributes\":{\"margin\":[5,5,5,5],\"name\":\"HSpacer01380\",\"sizing_mode\":\"stretch_width\"},\"id\":\"1565\",\"type\":\"Spacer\"},{\"attributes\":{},\"id\":\"1515\",\"type\":\"LinearScale\"},{\"attributes\":{\"axis_label\":\"inertia\",\"coordinates\":null,\"formatter\":{\"id\":\"1554\"},\"group\":null,\"major_label_policy\":{\"id\":\"1555\"},\"ticker\":{\"id\":\"1522\"}},\"id\":\"1521\",\"type\":\"LinearAxis\"},{\"attributes\":{\"end\":629.4448064337395,\"reset_end\":629.4448064337395,\"reset_start\":-26.22264474443687,\"start\":-26.22264474443687,\"tags\":[[[\"inertia\",\"inertia\",null]]]},\"id\":\"1506\",\"type\":\"Range1d\"},{\"attributes\":{\"axis_label\":\"k\",\"coordinates\":null,\"formatter\":{\"id\":\"1549\"},\"group\":null,\"major_label_policy\":{\"id\":\"1550\"},\"ticker\":{\"id\":\"1547\"}},\"id\":\"1517\",\"type\":\"LinearAxis\"},{\"attributes\":{},\"id\":\"1555\",\"type\":\"AllLabels\"},{\"attributes\":{},\"id\":\"1550\",\"type\":\"AllLabels\"},{\"attributes\":{\"axis\":{\"id\":\"1521\"},\"coordinates\":null,\"dimension\":1,\"grid_line_color\":null,\"group\":null,\"ticker\":null},\"id\":\"1524\",\"type\":\"Grid\"},{\"attributes\":{\"line_alpha\":0.2,\"line_color\":\"#30a2da\",\"line_width\":2,\"x\":{\"field\":\"k\"},\"y\":{\"field\":\"inertia\"}},\"id\":\"1543\",\"type\":\"Line\"},{\"attributes\":{\"end\":10.0,\"reset_end\":10.0,\"reset_start\":1.0,\"start\":1.0,\"tags\":[[[\"k\",\"k\",null]]]},\"id\":\"1505\",\"type\":\"Range1d\"}],\"root_ids\":[\"1503\"]},\"title\":\"Bokeh Application\",\"version\":\"2.4.3\"}};\n",
       "    var render_items = [{\"docid\":\"fae889be-1551-4e9a-a212-68b453d315dc\",\"root_ids\":[\"1503\"],\"roots\":{\"1503\":\"e5e122b6-6f46-4515-aabe-6e3944e73b68\"}}];\n",
       "    root.Bokeh.embed.embed_items_notebook(docs_json, render_items);\n",
       "    for (const render_item of render_items) {\n",
       "      for (const root_id of render_item.root_ids) {\n",
       "\tconst id_el = document.getElementById(root_id)\n",
       "\tif (id_el.children.length && (id_el.children[0].className === 'bk-root')) {\n",
       "\t  const root_el = id_el.children[0]\n",
       "\t  root_el.id = root_el.id + '-rendered'\n",
       "\t}\n",
       "      }\n",
       "    }\n",
       "  }\n",
       "  if (root.Bokeh !== undefined && root.Bokeh.Panel !== undefined) {\n",
       "    embed_document(root);\n",
       "  } else {\n",
       "    var attempts = 0;\n",
       "    var timer = setInterval(function(root) {\n",
       "      if (root.Bokeh !== undefined && root.Bokeh.Panel !== undefined) {\n",
       "        clearInterval(timer);\n",
       "        embed_document(root);\n",
       "      } else if (document.readyState == \"complete\") {\n",
       "        attempts++;\n",
       "        if (attempts > 200) {\n",
       "          clearInterval(timer);\n",
       "          console.log(\"Bokeh: ERROR: Unable to run BokehJS code because BokehJS library is missing\");\n",
       "        }\n",
       "      }\n",
       "    }, 25, root)\n",
       "  }\n",
       "})(window);</script>"
      ],
      "text/plain": [
       ":Curve   [k]   (inertia)"
      ]
     },
     "execution_count": 21,
     "metadata": {
      "application/vnd.holoviews_exec.v0+json": {
       "id": "1503"
      }
     },
     "output_type": "execute_result"
    }
   ],
   "source": [
    "# Find the best value for K using elbow curve 18.5.2\n",
    "inertia = []\n",
    "k = list(range(1, 11))\n",
    "\n",
    "# Calculate the inertia for the range of K values\n",
    "for i in k:\n",
    "    km = KMeans(n_clusters=i, random_state=0)\n",
    "    km.fit(df_iris_pca)\n",
    "    inertia.append(km.inertia_)\n",
    "\n",
    "# Create the elbow curve\n",
    "elbow_data = {\"k\": k, \"inertia\": inertia}\n",
    "df_elbow = pd.DataFrame(elbow_data)\n",
    "df_elbow.hvplot.line(x=\"k\", y=\"inertia\", xticks=k, title=\"Elbow Curve\")"
   ]
  },
  {
   "cell_type": "code",
   "execution_count": 22,
   "id": "d04867dd",
   "metadata": {},
   "outputs": [
    {
     "data": {
      "text/html": [
       "<div>\n",
       "<style scoped>\n",
       "    .dataframe tbody tr th:only-of-type {\n",
       "        vertical-align: middle;\n",
       "    }\n",
       "\n",
       "    .dataframe tbody tr th {\n",
       "        vertical-align: top;\n",
       "    }\n",
       "\n",
       "    .dataframe thead th {\n",
       "        text-align: right;\n",
       "    }\n",
       "</style>\n",
       "<table border=\"1\" class=\"dataframe\">\n",
       "  <thead>\n",
       "    <tr style=\"text-align: right;\">\n",
       "      <th></th>\n",
       "      <th>principal component 1</th>\n",
       "      <th>principal component 2</th>\n",
       "      <th>class</th>\n",
       "    </tr>\n",
       "  </thead>\n",
       "  <tbody>\n",
       "    <tr>\n",
       "      <th>0</th>\n",
       "      <td>-2.264542</td>\n",
       "      <td>0.505704</td>\n",
       "      <td>0</td>\n",
       "    </tr>\n",
       "    <tr>\n",
       "      <th>1</th>\n",
       "      <td>-2.086426</td>\n",
       "      <td>-0.655405</td>\n",
       "      <td>0</td>\n",
       "    </tr>\n",
       "    <tr>\n",
       "      <th>2</th>\n",
       "      <td>-2.367950</td>\n",
       "      <td>-0.318477</td>\n",
       "      <td>0</td>\n",
       "    </tr>\n",
       "    <tr>\n",
       "      <th>3</th>\n",
       "      <td>-2.304197</td>\n",
       "      <td>-0.575368</td>\n",
       "      <td>0</td>\n",
       "    </tr>\n",
       "    <tr>\n",
       "      <th>4</th>\n",
       "      <td>-2.388777</td>\n",
       "      <td>0.674767</td>\n",
       "      <td>0</td>\n",
       "    </tr>\n",
       "  </tbody>\n",
       "</table>\n",
       "</div>"
      ],
      "text/plain": [
       "   principal component 1  principal component 2  class\n",
       "0              -2.264542               0.505704      0\n",
       "1              -2.086426              -0.655405      0\n",
       "2              -2.367950              -0.318477      0\n",
       "3              -2.304197              -0.575368      0\n",
       "4              -2.388777               0.674767      0"
      ]
     },
     "execution_count": 22,
     "metadata": {},
     "output_type": "execute_result"
    }
   ],
   "source": [
    "# Initialize the K-means model\n",
    "model = KMeans(n_clusters=3, random_state=0)\n",
    "\n",
    "# Fit the model\n",
    "model.fit(df_iris_pca)\n",
    "\n",
    "# Predict clusters\n",
    "predictions = model.predict(df_iris_pca)\n",
    "\n",
    "# Add the predicted class columns\n",
    "df_iris_pca[\"class\"] = model.labels_\n",
    "df_iris_pca.head()"
   ]
  },
  {
   "cell_type": "code",
   "execution_count": 23,
   "id": "5ecd9647",
   "metadata": {},
   "outputs": [
    {
     "data": {},
     "metadata": {},
     "output_type": "display_data"
    },
    {
     "data": {
      "application/vnd.holoviews_exec.v0+json": "",
      "text/html": [
       "<div id='1612'>\n",
       "  <div class=\"bk-root\" id=\"377a1a7f-e3ba-4607-bec2-86f5715ba933\" data-root-id=\"1612\"></div>\n",
       "</div>\n",
       "<script type=\"application/javascript\">(function(root) {\n",
       "  function embed_document(root) {\n",
       "    var docs_json = {\"869dce6e-28a0-4b6c-92f1-4ef167a14783\":{\"defs\":[{\"extends\":null,\"module\":null,\"name\":\"ReactiveHTML1\",\"overrides\":[],\"properties\":[]},{\"extends\":null,\"module\":null,\"name\":\"FlexBox1\",\"overrides\":[],\"properties\":[{\"default\":\"flex-start\",\"kind\":null,\"name\":\"align_content\"},{\"default\":\"flex-start\",\"kind\":null,\"name\":\"align_items\"},{\"default\":\"row\",\"kind\":null,\"name\":\"flex_direction\"},{\"default\":\"wrap\",\"kind\":null,\"name\":\"flex_wrap\"},{\"default\":\"flex-start\",\"kind\":null,\"name\":\"justify_content\"}]},{\"extends\":null,\"module\":null,\"name\":\"GridStack1\",\"overrides\":[],\"properties\":[{\"default\":\"warn\",\"kind\":null,\"name\":\"mode\"},{\"default\":null,\"kind\":null,\"name\":\"ncols\"},{\"default\":null,\"kind\":null,\"name\":\"nrows\"},{\"default\":true,\"kind\":null,\"name\":\"allow_resize\"},{\"default\":true,\"kind\":null,\"name\":\"allow_drag\"},{\"default\":[],\"kind\":null,\"name\":\"state\"}]},{\"extends\":null,\"module\":null,\"name\":\"click1\",\"overrides\":[],\"properties\":[{\"default\":\"\",\"kind\":null,\"name\":\"terminal_output\"},{\"default\":\"\",\"kind\":null,\"name\":\"debug_name\"},{\"default\":0,\"kind\":null,\"name\":\"clears\"}]},{\"extends\":null,\"module\":null,\"name\":\"NotificationAreaBase1\",\"overrides\":[],\"properties\":[{\"default\":\"bottom-right\",\"kind\":null,\"name\":\"position\"},{\"default\":0,\"kind\":null,\"name\":\"_clear\"}]},{\"extends\":null,\"module\":null,\"name\":\"NotificationArea1\",\"overrides\":[],\"properties\":[{\"default\":[],\"kind\":null,\"name\":\"notifications\"},{\"default\":\"bottom-right\",\"kind\":null,\"name\":\"position\"},{\"default\":0,\"kind\":null,\"name\":\"_clear\"},{\"default\":[{\"background\":\"#ffc107\",\"icon\":{\"className\":\"fas fa-exclamation-triangle\",\"color\":\"white\",\"tagName\":\"i\"},\"type\":\"warning\"},{\"background\":\"#007bff\",\"icon\":{\"className\":\"fas fa-info-circle\",\"color\":\"white\",\"tagName\":\"i\"},\"type\":\"info\"}],\"kind\":null,\"name\":\"types\"}]},{\"extends\":null,\"module\":null,\"name\":\"Notification\",\"overrides\":[],\"properties\":[{\"default\":null,\"kind\":null,\"name\":\"background\"},{\"default\":3000,\"kind\":null,\"name\":\"duration\"},{\"default\":null,\"kind\":null,\"name\":\"icon\"},{\"default\":\"\",\"kind\":null,\"name\":\"message\"},{\"default\":null,\"kind\":null,\"name\":\"notification_type\"},{\"default\":false,\"kind\":null,\"name\":\"_destroyed\"}]},{\"extends\":null,\"module\":null,\"name\":\"TemplateActions1\",\"overrides\":[],\"properties\":[{\"default\":0,\"kind\":null,\"name\":\"open_modal\"},{\"default\":0,\"kind\":null,\"name\":\"close_modal\"}]},{\"extends\":null,\"module\":null,\"name\":\"MaterialTemplateActions1\",\"overrides\":[],\"properties\":[{\"default\":0,\"kind\":null,\"name\":\"open_modal\"},{\"default\":0,\"kind\":null,\"name\":\"close_modal\"}]}],\"roots\":{\"references\":[{\"attributes\":{},\"id\":\"1651\",\"type\":\"AllLabels\"},{\"attributes\":{\"data\":{\"class\":{\"__ndarray__\":\"AAAAAAAAAAAAAAAAAAAAAAAAAAAAAAAAAAAAAAAAAAAAAAAAAAAAAAAAAAAAAAAAAAAAAAAAAAAAAAAAAAAAAAAAAAAAAAAAAAAAAAAAAAAAAAAAAAAAAAAAAAAAAAAAAAAAAAAAAAAAAAAAAAAAAAAAAAAAAAAAAAAAAAAAAAAAAAAAAAAAAAAAAAAAAAAAAAAAAAAAAAAAAAAAAAAAAAAAAAAAAAAAAAAAAAAAAAAAAAAAAAAAAAAAAAAAAAAAAAAAAAAAAAA=\",\"dtype\":\"int32\",\"order\":\"little\",\"shape\":[50]},\"principal component 1\":{\"__ndarray__\":\"OxG/DcgdAsCeflXa/7AAwCstSgGQ8QLAqnjV6/5uAsB8OOBfNxwDwLEJAJp1kADA6lhZG9GQA8C3vPx66N4BwLbvZ05UvALA4dUzb2iCAcDFACQK0k4BwH2PWzp4ngLAakHW4evKAcBtYBiPIx4FwOBkYiHQiQHA7MLFMQADAsDCicmkO58BwNHnRqd8hQHADrKL2CBO/r9tMd43N7gCwDUu6+IFov6/J3pNIB2jAcAhHszufzEGwHCyHOBnIP2/cW9EsmPTAcBkStBn+E//v+cJWiugagDAzhcE6nVYAcDy6Z27WB8BwCENM3l7JgLA3eURJwwoAcCuCNRTnk/9v3SUD3eZ3QTAxoxIYeyAA8Dh1TNvaIIBwATB4qBfsAHApwtPDPdaAMDh1TNvaIIBwJvdMoLUfAPAUiP02UddAcA64QHLzkoCwFxzDEaD8v2/XPlj5HF2BMD2iQQfsG3/v/eHnMYlEQHAnu7lFFWaAMDP+qMb0QwDwI9moB9/LwPAKposq3LQAcDbjpZMy6UBwA==\",\"dtype\":\"float64\",\"order\":\"little\",\"shape\":[50]},\"principal component 2\":{\"__ndarray__\":\"Y+9787ku4D/xF8lWE/nkv2bYpqjuYdS/DCSQjGlp4r/T0afLsZflP7m+IZP5S/g/OySoGooWsz98eXQ10LHPP80IOjG4hfG/gk6pnFa23L9oMKXTKCHxPy2/qP2XTMQ/oao3kBix5r+FiXLvZwbuv9qryBtaPf4/krWrfGrHBUBhjF03Ujj4Pzf+/04udeA/9Ek0V9Tl9j8mpZIPTofyP3HAlsG9jNs/2/KSxId67j8/u+o4P1TfPybWDBwFVLs/R+1BJITCxD+yYRod23Pjv2+qjuRgBtE/b4xIfx6q4T/hGaA2hIvVP1tBWpX4JtS/PwayRej43r8Ulx54QH/cP7ZxJTRvQf0/w7Jwma57AUCCTqmcVrbcvwrn16FhmMe/s+VDvSnr5T+CTqmcVrbcv3PEP1q7Ouy/eUSP1gm80j9TwmaGk/PdP3x/28YcnwLAo+8l3FML3b9jssu+Q9XfP+reGJkvvvI/9owv2S8k5r9SqsG4/WjyP9GttwhpMde/d+6vZGBo8D8A7kmWeoGgPw==\",\"dtype\":\"float64\",\"order\":\"little\",\"shape\":[50]},\"principal_component_1\":{\"__ndarray__\":\"OxG/DcgdAsCeflXa/7AAwCstSgGQ8QLAqnjV6/5uAsB8OOBfNxwDwLEJAJp1kADA6lhZG9GQA8C3vPx66N4BwLbvZ05UvALA4dUzb2iCAcDFACQK0k4BwH2PWzp4ngLAakHW4evKAcBtYBiPIx4FwOBkYiHQiQHA7MLFMQADAsDCicmkO58BwNHnRqd8hQHADrKL2CBO/r9tMd43N7gCwDUu6+IFov6/J3pNIB2jAcAhHszufzEGwHCyHOBnIP2/cW9EsmPTAcBkStBn+E//v+cJWiugagDAzhcE6nVYAcDy6Z27WB8BwCENM3l7JgLA3eURJwwoAcCuCNRTnk/9v3SUD3eZ3QTAxoxIYeyAA8Dh1TNvaIIBwATB4qBfsAHApwtPDPdaAMDh1TNvaIIBwJvdMoLUfAPAUiP02UddAcA64QHLzkoCwFxzDEaD8v2/XPlj5HF2BMD2iQQfsG3/v/eHnMYlEQHAnu7lFFWaAMDP+qMb0QwDwI9moB9/LwPAKposq3LQAcDbjpZMy6UBwA==\",\"dtype\":\"float64\",\"order\":\"little\",\"shape\":[50]},\"principal_component_2\":{\"__ndarray__\":\"Y+9787ku4D/xF8lWE/nkv2bYpqjuYdS/DCSQjGlp4r/T0afLsZflP7m+IZP5S/g/OySoGooWsz98eXQ10LHPP80IOjG4hfG/gk6pnFa23L9oMKXTKCHxPy2/qP2XTMQ/oao3kBix5r+FiXLvZwbuv9qryBtaPf4/krWrfGrHBUBhjF03Ujj4Pzf+/04udeA/9Ek0V9Tl9j8mpZIPTofyP3HAlsG9jNs/2/KSxId67j8/u+o4P1TfPybWDBwFVLs/R+1BJITCxD+yYRod23Pjv2+qjuRgBtE/b4xIfx6q4T/hGaA2hIvVP1tBWpX4JtS/PwayRej43r8Ulx54QH/cP7ZxJTRvQf0/w7Jwma57AUCCTqmcVrbcvwrn16FhmMe/s+VDvSnr5T+CTqmcVrbcv3PEP1q7Ouy/eUSP1gm80j9TwmaGk/PdP3x/28YcnwLAo+8l3FML3b9jssu+Q9XfP+reGJkvvvI/9owv2S8k5r9SqsG4/WjyP9GttwhpMde/d+6vZGBo8D8A7kmWeoGgPw==\",\"dtype\":\"float64\",\"order\":\"little\",\"shape\":[50]}},\"selected\":{\"id\":\"1656\"},\"selection_policy\":{\"id\":\"1670\"}},\"id\":\"1655\",\"type\":\"ColumnDataSource\"},{\"attributes\":{\"fill_color\":{\"value\":\"#e5ae38\"},\"hatch_color\":{\"value\":\"#e5ae38\"},\"line_color\":{\"value\":\"#e5ae38\"},\"size\":{\"value\":5.477225575051661},\"x\":{\"field\":\"principal component 1\"},\"y\":{\"field\":\"principal component 2\"}},\"id\":\"1701\",\"type\":\"Scatter\"},{\"attributes\":{\"fill_alpha\":{\"value\":0.2},\"fill_color\":{\"value\":\"#e5ae38\"},\"hatch_alpha\":{\"value\":0.2},\"hatch_color\":{\"value\":\"#e5ae38\"},\"line_alpha\":{\"value\":0.2},\"line_color\":{\"value\":\"#e5ae38\"},\"size\":{\"value\":5.477225575051661},\"x\":{\"field\":\"principal component 1\"},\"y\":{\"field\":\"principal component 2\"}},\"id\":\"1703\",\"type\":\"Scatter\"},{\"attributes\":{\"callback\":null,\"renderers\":[{\"id\":\"1661\"},{\"id\":\"1682\"},{\"id\":\"1704\"}],\"tags\":[\"hv_created\"],\"tooltips\":[[\"class\",\"@{class}\"],[\"principal component 1\",\"@{principal_component_1}\"],[\"principal component 2\",\"@{principal_component_2}\"]]},\"id\":\"1616\",\"type\":\"HoverTool\"},{\"attributes\":{\"below\":[{\"id\":\"1628\"}],\"center\":[{\"id\":\"1631\"},{\"id\":\"1635\"}],\"height\":300,\"left\":[{\"id\":\"1632\"}],\"margin\":[5,5,5,5],\"min_border_bottom\":10,\"min_border_left\":10,\"min_border_right\":10,\"min_border_top\":10,\"renderers\":[{\"id\":\"1661\"},{\"id\":\"1682\"},{\"id\":\"1704\"}],\"right\":[{\"id\":\"1673\"}],\"sizing_mode\":\"fixed\",\"title\":{\"id\":\"1620\"},\"toolbar\":{\"id\":\"1642\"},\"width\":700,\"x_range\":{\"id\":\"1614\"},\"x_scale\":{\"id\":\"1624\"},\"y_range\":{\"id\":\"1615\"},\"y_scale\":{\"id\":\"1626\"}},\"id\":\"1619\",\"subtype\":\"Figure\",\"type\":\"Plot\"},{\"attributes\":{\"end\":3.260414452028092,\"reset_end\":3.260414452028092,\"reset_start\":-3.1961060534153827,\"start\":-3.1961060534153827,\"tags\":[[[\"principal component 2\",\"principal component 2\",null]]]},\"id\":\"1615\",\"type\":\"Range1d\"},{\"attributes\":{},\"id\":\"1654\",\"type\":\"AllLabels\"},{\"attributes\":{\"fill_color\":{\"value\":\"#30a2da\"},\"hatch_color\":{\"value\":\"#30a2da\"},\"line_color\":{\"value\":\"#30a2da\"},\"size\":{\"value\":5.477225575051661},\"x\":{\"field\":\"principal component 1\"},\"y\":{\"field\":\"principal component 2\"}},\"id\":\"1658\",\"type\":\"Scatter\"},{\"attributes\":{\"label\":{\"value\":\"1\"},\"renderers\":[{\"id\":\"1682\"}]},\"id\":\"1696\",\"type\":\"LegendItem\"},{\"attributes\":{\"tools\":[{\"id\":\"1616\"},{\"id\":\"1636\"},{\"id\":\"1637\"},{\"id\":\"1638\"},{\"id\":\"1639\"},{\"id\":\"1640\"}]},\"id\":\"1642\",\"type\":\"Toolbar\"},{\"attributes\":{\"fill_alpha\":{\"value\":0.1},\"fill_color\":{\"value\":\"#e5ae38\"},\"hatch_alpha\":{\"value\":0.1},\"hatch_color\":{\"value\":\"#e5ae38\"},\"line_alpha\":{\"value\":0.1},\"line_color\":{\"value\":\"#e5ae38\"},\"size\":{\"value\":5.477225575051661},\"x\":{\"field\":\"principal component 1\"},\"y\":{\"field\":\"principal component 2\"}},\"id\":\"1702\",\"type\":\"Scatter\"},{\"attributes\":{\"angle\":{\"value\":0.0},\"fill_alpha\":{\"value\":1.0},\"fill_color\":{\"value\":\"#fc4f30\"},\"hatch_alpha\":{\"value\":1.0},\"hatch_color\":{\"value\":\"#fc4f30\"},\"hatch_scale\":{\"value\":12.0},\"hatch_weight\":{\"value\":1.0},\"line_alpha\":{\"value\":1.0},\"line_cap\":{\"value\":\"butt\"},\"line_color\":{\"value\":\"#fc4f30\"},\"line_dash\":{\"value\":[]},\"line_dash_offset\":{\"value\":0},\"line_join\":{\"value\":\"bevel\"},\"line_width\":{\"value\":1},\"marker\":{\"value\":\"circle\"},\"size\":{\"value\":5.477225575051661},\"x\":{\"field\":\"principal component 1\"},\"y\":{\"field\":\"principal component 2\"}},\"id\":\"1697\",\"type\":\"Scatter\"},{\"attributes\":{},\"id\":\"1633\",\"type\":\"BasicTicker\"},{\"attributes\":{},\"id\":\"1693\",\"type\":\"UnionRenderers\"},{\"attributes\":{\"bottom_units\":\"screen\",\"coordinates\":null,\"fill_alpha\":0.5,\"fill_color\":\"lightgrey\",\"group\":null,\"left_units\":\"screen\",\"level\":\"overlay\",\"line_alpha\":1.0,\"line_color\":\"black\",\"line_dash\":[4,4],\"line_width\":2,\"right_units\":\"screen\",\"syncable\":false,\"top_units\":\"screen\"},\"id\":\"1641\",\"type\":\"BoxAnnotation\"},{\"attributes\":{\"fill_color\":{\"value\":\"#fc4f30\"},\"hatch_color\":{\"value\":\"#fc4f30\"},\"line_color\":{\"value\":\"#fc4f30\"},\"size\":{\"value\":5.477225575051661},\"x\":{\"field\":\"principal component 1\"},\"y\":{\"field\":\"principal component 2\"}},\"id\":\"1679\",\"type\":\"Scatter\"},{\"attributes\":{},\"id\":\"1636\",\"type\":\"SaveTool\"},{\"attributes\":{\"fill_alpha\":{\"value\":0.2},\"fill_color\":{\"value\":\"#fc4f30\"},\"hatch_alpha\":{\"value\":0.2},\"hatch_color\":{\"value\":\"#fc4f30\"},\"line_alpha\":{\"value\":0.2},\"line_color\":{\"value\":\"#fc4f30\"},\"size\":{\"value\":5.477225575051661},\"x\":{\"field\":\"principal component 1\"},\"y\":{\"field\":\"principal component 2\"}},\"id\":\"1681\",\"type\":\"Scatter\"},{\"attributes\":{},\"id\":\"1637\",\"type\":\"PanTool\"},{\"attributes\":{},\"id\":\"1640\",\"type\":\"ResetTool\"},{\"attributes\":{\"fill_alpha\":{\"value\":0.1},\"fill_color\":{\"value\":\"#30a2da\"},\"hatch_alpha\":{\"value\":0.1},\"hatch_color\":{\"value\":\"#30a2da\"},\"line_alpha\":{\"value\":0.1},\"line_color\":{\"value\":\"#30a2da\"},\"size\":{\"value\":5.477225575051661},\"x\":{\"field\":\"principal component 1\"},\"y\":{\"field\":\"principal component 2\"}},\"id\":\"1659\",\"type\":\"Scatter\"},{\"attributes\":{\"data\":{\"class\":{\"__ndarray__\":\"AgAAAAIAAAACAAAAAgAAAAIAAAACAAAAAgAAAAIAAAACAAAAAgAAAAIAAAACAAAAAgAAAAIAAAACAAAAAgAAAAIAAAACAAAAAgAAAAIAAAACAAAAAgAAAAIAAAACAAAAAgAAAAIAAAACAAAAAgAAAAIAAAACAAAAAgAAAAIAAAACAAAAAgAAAAIAAAACAAAAAgAAAAIAAAACAAAAAgAAAAIAAAACAAAAAgAAAAIAAAACAAAAAgAAAAIAAAA=\",\"dtype\":\"int32\",\"order\":\"little\",\"shape\":[47]},\"principal component 1\":{\"__ndarray__\":\"cJicP/Wp8T/ldLjqfHDnP0VUdjeu3/M/jH2nUXn15z95t9eWSwfsPwHqCkTLn+c/YokX1wP06z/oYaNJSxH0PxJwyrRZu/U/WyqW1lWi2z+iboqoZcrwP19oZCMRkP0/WqOtkJqmAUCrkwP82gT3P8Cof1zh4v0/cUK5SJgIBkDiZzhbjmwCQPMm68uNAwBAHk9oqvMjAkBqi3vYw9r1P6gQOb/Elfk/Na6UReUl/j8V0QQIDXj5P3cdkBhdivc/PvYnSsB/A0AuhisDH3kKQJTn9rPvUgBANS4taDwvB0A8qLnnkUT7P6IJnj3aUv8/HNLu7wVR8D+c2hYHfpP8P3obVl0h1v0/hvhsDuZ7A0AutjE3VocCQGctB9QUxP0/jE42KVhoBkCu+a/eUEj5P+3OTXR+jfU/OAUQICao/T8MDMQGFyEAQLRqwqkqc/4/Nw5TGLJYAEC2eb2NdgMAQOvgNY2o7f0/84JComFV+D8J9OTEsgX2Pw==\",\"dtype\":\"float64\",\"order\":\"little\",\"shape\":[47]},\"principal component 2\":{\"__ndarray__\":\"23b2/Z2e6z8bPDfKBSjjP9nNPSGgrOM/r1+rWRnr6D9kOXqk51HgP4hBqiETwtk/Yp7yIJwL0D/vh7BClya1v0MteShkC9U/CQg+Gkhd6z/Bk6QJ17XgP3osy2Xw5Os/CMTpFji+4T/FlDOr+pqpv+lEGSLnotI/ngetLdY66T9QO0mDhTXaP7CQnq/nKee/vI2XATu+/j8yoQKF0jTmP2p9L85taNu/a6dDi22E2j8ufGgVRqrlPy83rDJONNA/fzlsMT10BEAHi6QTDFhjvz90hSJpCe0/a5KR42l12T+PWt+y8znwP5yAK36oDfA/V6j7cmzHsD/vvEvBKb3Iv5HkXX2vxeE/1V7ipF+Szz8j4TWwbAIFQJmBO1NYo8e/Sys1XS0I6z+hj2oE2yjxPxb8A+M9Bts/u6TAq3yE5T/X+zteX4jjP952Ilnq8+U/tiJfoH+r6z86eOdp3MbwP/lDMiongNg/d9tvjSkT0T8bLdG5BEPwPw==\",\"dtype\":\"float64\",\"order\":\"little\",\"shape\":[47]},\"principal_component_1\":{\"__ndarray__\":\"cJicP/Wp8T/ldLjqfHDnP0VUdjeu3/M/jH2nUXn15z95t9eWSwfsPwHqCkTLn+c/YokX1wP06z/oYaNJSxH0PxJwyrRZu/U/WyqW1lWi2z+iboqoZcrwP19oZCMRkP0/WqOtkJqmAUCrkwP82gT3P8Cof1zh4v0/cUK5SJgIBkDiZzhbjmwCQPMm68uNAwBAHk9oqvMjAkBqi3vYw9r1P6gQOb/Elfk/Na6UReUl/j8V0QQIDXj5P3cdkBhdivc/PvYnSsB/A0AuhisDH3kKQJTn9rPvUgBANS4taDwvB0A8qLnnkUT7P6IJnj3aUv8/HNLu7wVR8D+c2hYHfpP8P3obVl0h1v0/hvhsDuZ7A0AutjE3VocCQGctB9QUxP0/jE42KVhoBkCu+a/eUEj5P+3OTXR+jfU/OAUQICao/T8MDMQGFyEAQLRqwqkqc/4/Nw5TGLJYAEC2eb2NdgMAQOvgNY2o7f0/84JComFV+D8J9OTEsgX2Pw==\",\"dtype\":\"float64\",\"order\":\"little\",\"shape\":[47]},\"principal_component_2\":{\"__ndarray__\":\"23b2/Z2e6z8bPDfKBSjjP9nNPSGgrOM/r1+rWRnr6D9kOXqk51HgP4hBqiETwtk/Yp7yIJwL0D/vh7BClya1v0MteShkC9U/CQg+Gkhd6z/Bk6QJ17XgP3osy2Xw5Os/CMTpFji+4T/FlDOr+pqpv+lEGSLnotI/ngetLdY66T9QO0mDhTXaP7CQnq/nKee/vI2XATu+/j8yoQKF0jTmP2p9L85taNu/a6dDi22E2j8ufGgVRqrlPy83rDJONNA/fzlsMT10BEAHi6QTDFhjvz90hSJpCe0/a5KR42l12T+PWt+y8znwP5yAK36oDfA/V6j7cmzHsD/vvEvBKb3Iv5HkXX2vxeE/1V7ipF+Szz8j4TWwbAIFQJmBO1NYo8e/Sys1XS0I6z+hj2oE2yjxPxb8A+M9Bts/u6TAq3yE5T/X+zteX4jjP952Ilnq8+U/tiJfoH+r6z86eOdp3MbwP/lDMiongNg/d9tvjSkT0T8bLdG5BEPwPw==\",\"dtype\":\"float64\",\"order\":\"little\",\"shape\":[47]}},\"selected\":{\"id\":\"1699\"},\"selection_policy\":{\"id\":\"1717\"}},\"id\":\"1698\",\"type\":\"ColumnDataSource\"},{\"attributes\":{},\"id\":\"1638\",\"type\":\"WheelZoomTool\"},{\"attributes\":{\"margin\":[5,5,5,5],\"name\":\"HSpacer01534\",\"sizing_mode\":\"stretch_width\"},\"id\":\"1736\",\"type\":\"Spacer\"},{\"attributes\":{\"overlay\":{\"id\":\"1641\"}},\"id\":\"1639\",\"type\":\"BoxZoomTool\"},{\"attributes\":{},\"id\":\"1677\",\"type\":\"Selection\"},{\"attributes\":{\"source\":{\"id\":\"1698\"}},\"id\":\"1705\",\"type\":\"CDSView\"},{\"attributes\":{\"coordinates\":null,\"data_source\":{\"id\":\"1698\"},\"glyph\":{\"id\":\"1701\"},\"group\":null,\"hover_glyph\":null,\"muted_glyph\":{\"id\":\"1703\"},\"nonselection_glyph\":{\"id\":\"1702\"},\"selection_glyph\":{\"id\":\"1721\"},\"view\":{\"id\":\"1705\"}},\"id\":\"1704\",\"type\":\"GlyphRenderer\"},{\"attributes\":{\"label\":{\"value\":\"2\"},\"renderers\":[{\"id\":\"1704\"}]},\"id\":\"1720\",\"type\":\"LegendItem\"},{\"attributes\":{},\"id\":\"1656\",\"type\":\"Selection\"},{\"attributes\":{},\"id\":\"1629\",\"type\":\"BasicTicker\"},{\"attributes\":{},\"id\":\"1624\",\"type\":\"LinearScale\"},{\"attributes\":{},\"id\":\"1653\",\"type\":\"BasicTickFormatter\"},{\"attributes\":{\"coordinates\":null,\"group\":null,\"text_color\":\"black\",\"text_font_size\":\"12pt\"},\"id\":\"1620\",\"type\":\"Title\"},{\"attributes\":{\"angle\":{\"value\":0.0},\"fill_alpha\":{\"value\":1.0},\"fill_color\":{\"value\":\"#30a2da\"},\"hatch_alpha\":{\"value\":1.0},\"hatch_color\":{\"value\":\"#30a2da\"},\"hatch_scale\":{\"value\":12.0},\"hatch_weight\":{\"value\":1.0},\"line_alpha\":{\"value\":1.0},\"line_cap\":{\"value\":\"butt\"},\"line_color\":{\"value\":\"#30a2da\"},\"line_dash\":{\"value\":[]},\"line_dash_offset\":{\"value\":0},\"line_join\":{\"value\":\"bevel\"},\"line_width\":{\"value\":1},\"marker\":{\"value\":\"circle\"},\"size\":{\"value\":5.477225575051661},\"x\":{\"field\":\"principal component 1\"},\"y\":{\"field\":\"principal component 2\"}},\"id\":\"1675\",\"type\":\"Scatter\"},{\"attributes\":{},\"id\":\"1717\",\"type\":\"UnionRenderers\"},{\"attributes\":{\"click_policy\":\"mute\",\"coordinates\":null,\"group\":null,\"items\":[{\"id\":\"1674\"},{\"id\":\"1696\"},{\"id\":\"1720\"}],\"location\":[0,0],\"title\":\"class\"},\"id\":\"1673\",\"type\":\"Legend\"},{\"attributes\":{\"axis\":{\"id\":\"1628\"},\"coordinates\":null,\"grid_line_color\":null,\"group\":null,\"ticker\":null},\"id\":\"1631\",\"type\":\"Grid\"},{\"attributes\":{\"angle\":{\"value\":0.0},\"fill_alpha\":{\"value\":1.0},\"fill_color\":{\"value\":\"#e5ae38\"},\"hatch_alpha\":{\"value\":1.0},\"hatch_color\":{\"value\":\"#e5ae38\"},\"hatch_scale\":{\"value\":12.0},\"hatch_weight\":{\"value\":1.0},\"line_alpha\":{\"value\":1.0},\"line_cap\":{\"value\":\"butt\"},\"line_color\":{\"value\":\"#e5ae38\"},\"line_dash\":{\"value\":[]},\"line_dash_offset\":{\"value\":0},\"line_join\":{\"value\":\"bevel\"},\"line_width\":{\"value\":1},\"marker\":{\"value\":\"circle\"},\"size\":{\"value\":5.477225575051661},\"x\":{\"field\":\"principal component 1\"},\"y\":{\"field\":\"principal component 2\"}},\"id\":\"1721\",\"type\":\"Scatter\"},{\"attributes\":{\"source\":{\"id\":\"1655\"}},\"id\":\"1662\",\"type\":\"CDSView\"},{\"attributes\":{\"label\":{\"value\":\"0\"},\"renderers\":[{\"id\":\"1661\"}]},\"id\":\"1674\",\"type\":\"LegendItem\"},{\"attributes\":{\"data\":{\"class\":{\"__ndarray__\":\"AQAAAAEAAAABAAAAAQAAAAEAAAABAAAAAQAAAAEAAAABAAAAAQAAAAEAAAABAAAAAQAAAAEAAAABAAAAAQAAAAEAAAABAAAAAQAAAAEAAAABAAAAAQAAAAEAAAABAAAAAQAAAAEAAAABAAAAAQAAAAEAAAABAAAAAQAAAAEAAAABAAAAAQAAAAEAAAABAAAAAQAAAAEAAAABAAAAAQAAAAEAAAABAAAAAQAAAAEAAAABAAAAAQAAAAEAAAABAAAAAQAAAAEAAAABAAAAAQAAAAEAAAA=\",\"dtype\":\"int32\",\"order\":\"little\",\"shape\":[53]},\"principal component 1\":{\"__ndarray__\":\"fRWMhntt2T9HnJZFWCnxP2eBHlf2mtg/6f4dZv7c379qGywXnaPtP4bBkDZaWXQ/6N2FPizsv7+sz+h8JxTcP1ZNsk78puE/N0UqJwTz5j+1z63ghxOjv5lu06S8RdY/4rIv7V2iwz9k6iTH4XHzPzDYZACmFsQ/Va1SDE473j8OyjX41qXzP4kxy7fjI+Q/GdCK7kVq5j8bhVUnIzDlP8Ab1FJINai/Tz98rN0cvz9mkFg5BOqMPx3f6GWaNc4/DM1ZRTXo8D+hsJMoZVfMP8+bvwf1kvA/tV4TnFcrsT90NwN1kKDRP8d9yQ7wbdE/oo3+VwPx4z+13kvRzh7VP8LEFNWD6de/1iTllsIb0j8wX21EL8y2PwQkQhu5t8w/7wRG5kBd4j/XjFDrsj/dv96A0gDGJNA/3F8IKHdz8j/4oUp+m+/WP1n35HGkDPQ/GOKIxsts9z/7RPpdThD0P4titwdQKu8/8oqkmmBE9T9ffP3wHsDyP932a9zEx/E/JzazatUo8z+UvvFQw4ztP9xfCCh3c/I/R9VbMZXv+D802SvtkrLuPw==\",\"dtype\":\"float64\",\"order\":\"little\",\"shape\":[53]},\"principal component 2\":{\"__ndarray__\":\"j80hw3Uh/L99AFcJ4hrLv/IVlNb76eK/ZJSza/eU/b95jGFUCw+fP+nLA01tePC/8oKEXbZDBcDJ9gYTsCWuv0bNqHx+XPy/2nstxk+8x78wLLY26rLbvxu+JkVKZsi/k4nUeJ9N6b9h5T6HOSL6v71Ai9CC2fS/sQipiLWp2r9Cr8dW+Rvuv+bFU70Krdq/9DbCViNBsL9nGdg+X7fMv2YFEZBX6vC/asJ8cXkE+b9r1i92nSz5v0GekB1e1Oi/EC0SzX5h5L+Hbj2aaPnRv7iLs++KR/a/l8do/yc3y789ZwsN7Ub1vycJ/oM76fG/ucUd1SI0nD9n68QlE6Xvv87C5Ku5JADApUs7dJBT67+0jkY+Z2PGv1L2R1TcWdi/eDq1mhitw7+0+86JpaH4v6Z6HI5KEeO/UQhbdkNx5r9Clg29Jfb4v5MxaImirfK/tK9g7els3L9QKnQyOXv7v0nNWXwPR+K/QWwdsBUn37/F2YlbzWjUv/6TgLFv8dK/Ta/b9jwm6r/t/1pSILGTP1EIW3ZDcea/vlrVOlT47L/4Ciw2mtGWvw==\",\"dtype\":\"float64\",\"order\":\"little\",\"shape\":[53]},\"principal_component_1\":{\"__ndarray__\":\"fRWMhntt2T9HnJZFWCnxP2eBHlf2mtg/6f4dZv7c379qGywXnaPtP4bBkDZaWXQ/6N2FPizsv7+sz+h8JxTcP1ZNsk78puE/N0UqJwTz5j+1z63ghxOjv5lu06S8RdY/4rIv7V2iwz9k6iTH4XHzPzDYZACmFsQ/Va1SDE473j8OyjX41qXzP4kxy7fjI+Q/GdCK7kVq5j8bhVUnIzDlP8Ab1FJINai/Tz98rN0cvz9mkFg5BOqMPx3f6GWaNc4/DM1ZRTXo8D+hsJMoZVfMP8+bvwf1kvA/tV4TnFcrsT90NwN1kKDRP8d9yQ7wbdE/oo3+VwPx4z+13kvRzh7VP8LEFNWD6de/1iTllsIb0j8wX21EL8y2PwQkQhu5t8w/7wRG5kBd4j/XjFDrsj/dv96A0gDGJNA/3F8IKHdz8j/4oUp+m+/WP1n35HGkDPQ/GOKIxsts9z/7RPpdThD0P4titwdQKu8/8oqkmmBE9T9ffP3wHsDyP932a9zEx/E/JzazatUo8z+UvvFQw4ztP9xfCCh3c/I/R9VbMZXv+D802SvtkrLuPw==\",\"dtype\":\"float64\",\"order\":\"little\",\"shape\":[53]},\"principal_component_2\":{\"__ndarray__\":\"j80hw3Uh/L99AFcJ4hrLv/IVlNb76eK/ZJSza/eU/b95jGFUCw+fP+nLA01tePC/8oKEXbZDBcDJ9gYTsCWuv0bNqHx+XPy/2nstxk+8x78wLLY26rLbvxu+JkVKZsi/k4nUeJ9N6b9h5T6HOSL6v71Ai9CC2fS/sQipiLWp2r9Cr8dW+Rvuv+bFU70Krdq/9DbCViNBsL9nGdg+X7fMv2YFEZBX6vC/asJ8cXkE+b9r1i92nSz5v0GekB1e1Oi/EC0SzX5h5L+Hbj2aaPnRv7iLs++KR/a/l8do/yc3y789ZwsN7Ub1vycJ/oM76fG/ucUd1SI0nD9n68QlE6Xvv87C5Ku5JADApUs7dJBT67+0jkY+Z2PGv1L2R1TcWdi/eDq1mhitw7+0+86JpaH4v6Z6HI5KEeO/UQhbdkNx5r9Clg29Jfb4v5MxaImirfK/tK9g7els3L9QKnQyOXv7v0nNWXwPR+K/QWwdsBUn37/F2YlbzWjUv/6TgLFv8dK/Ta/b9jwm6r/t/1pSILGTP1EIW3ZDcea/vlrVOlT47L/4Ciw2mtGWvw==\",\"dtype\":\"float64\",\"order\":\"little\",\"shape\":[53]}},\"selected\":{\"id\":\"1677\"},\"selection_policy\":{\"id\":\"1693\"}},\"id\":\"1676\",\"type\":\"ColumnDataSource\"},{\"attributes\":{},\"id\":\"1699\",\"type\":\"Selection\"},{\"attributes\":{\"end\":3.569854510235274,\"reset_end\":3.569854510235274,\"reset_start\":-3.0348831212643517,\"start\":-3.0348831212643517,\"tags\":[[[\"principal component 1\",\"principal component 1\",null]]]},\"id\":\"1614\",\"type\":\"Range1d\"},{\"attributes\":{},\"id\":\"1626\",\"type\":\"LinearScale\"},{\"attributes\":{\"fill_alpha\":{\"value\":0.2},\"fill_color\":{\"value\":\"#30a2da\"},\"hatch_alpha\":{\"value\":0.2},\"hatch_color\":{\"value\":\"#30a2da\"},\"line_alpha\":{\"value\":0.2},\"line_color\":{\"value\":\"#30a2da\"},\"size\":{\"value\":5.477225575051661},\"x\":{\"field\":\"principal component 1\"},\"y\":{\"field\":\"principal component 2\"}},\"id\":\"1660\",\"type\":\"Scatter\"},{\"attributes\":{\"source\":{\"id\":\"1676\"}},\"id\":\"1683\",\"type\":\"CDSView\"},{\"attributes\":{\"axis_label\":\"principal component 2\",\"coordinates\":null,\"formatter\":{\"id\":\"1653\"},\"group\":null,\"major_label_policy\":{\"id\":\"1654\"},\"ticker\":{\"id\":\"1633\"}},\"id\":\"1632\",\"type\":\"LinearAxis\"},{\"attributes\":{},\"id\":\"1670\",\"type\":\"UnionRenderers\"},{\"attributes\":{\"children\":[{\"id\":\"1613\"},{\"id\":\"1619\"},{\"id\":\"1736\"}],\"margin\":[0,0,0,0],\"name\":\"Row01529\",\"tags\":[\"embedded\"]},\"id\":\"1612\",\"type\":\"Row\"},{\"attributes\":{\"axis_label\":\"principal component 1\",\"coordinates\":null,\"formatter\":{\"id\":\"1650\"},\"group\":null,\"major_label_policy\":{\"id\":\"1651\"},\"ticker\":{\"id\":\"1629\"}},\"id\":\"1628\",\"type\":\"LinearAxis\"},{\"attributes\":{\"fill_alpha\":{\"value\":0.1},\"fill_color\":{\"value\":\"#fc4f30\"},\"hatch_alpha\":{\"value\":0.1},\"hatch_color\":{\"value\":\"#fc4f30\"},\"line_alpha\":{\"value\":0.1},\"line_color\":{\"value\":\"#fc4f30\"},\"size\":{\"value\":5.477225575051661},\"x\":{\"field\":\"principal component 1\"},\"y\":{\"field\":\"principal component 2\"}},\"id\":\"1680\",\"type\":\"Scatter\"},{\"attributes\":{\"coordinates\":null,\"data_source\":{\"id\":\"1655\"},\"glyph\":{\"id\":\"1658\"},\"group\":null,\"hover_glyph\":null,\"muted_glyph\":{\"id\":\"1660\"},\"nonselection_glyph\":{\"id\":\"1659\"},\"selection_glyph\":{\"id\":\"1675\"},\"view\":{\"id\":\"1662\"}},\"id\":\"1661\",\"type\":\"GlyphRenderer\"},{\"attributes\":{\"coordinates\":null,\"data_source\":{\"id\":\"1676\"},\"glyph\":{\"id\":\"1679\"},\"group\":null,\"hover_glyph\":null,\"muted_glyph\":{\"id\":\"1681\"},\"nonselection_glyph\":{\"id\":\"1680\"},\"selection_glyph\":{\"id\":\"1697\"},\"view\":{\"id\":\"1683\"}},\"id\":\"1682\",\"type\":\"GlyphRenderer\"},{\"attributes\":{},\"id\":\"1650\",\"type\":\"BasicTickFormatter\"},{\"attributes\":{\"axis\":{\"id\":\"1632\"},\"coordinates\":null,\"dimension\":1,\"grid_line_color\":null,\"group\":null,\"ticker\":null},\"id\":\"1635\",\"type\":\"Grid\"},{\"attributes\":{\"margin\":[5,5,5,5],\"name\":\"HSpacer01533\",\"sizing_mode\":\"stretch_width\"},\"id\":\"1613\",\"type\":\"Spacer\"}],\"root_ids\":[\"1612\"]},\"title\":\"Bokeh Application\",\"version\":\"2.4.3\"}};\n",
       "    var render_items = [{\"docid\":\"869dce6e-28a0-4b6c-92f1-4ef167a14783\",\"root_ids\":[\"1612\"],\"roots\":{\"1612\":\"377a1a7f-e3ba-4607-bec2-86f5715ba933\"}}];\n",
       "    root.Bokeh.embed.embed_items_notebook(docs_json, render_items);\n",
       "    for (const render_item of render_items) {\n",
       "      for (const root_id of render_item.root_ids) {\n",
       "\tconst id_el = document.getElementById(root_id)\n",
       "\tif (id_el.children.length && (id_el.children[0].className === 'bk-root')) {\n",
       "\t  const root_el = id_el.children[0]\n",
       "\t  root_el.id = root_el.id + '-rendered'\n",
       "\t}\n",
       "      }\n",
       "    }\n",
       "  }\n",
       "  if (root.Bokeh !== undefined && root.Bokeh.Panel !== undefined) {\n",
       "    embed_document(root);\n",
       "  } else {\n",
       "    var attempts = 0;\n",
       "    var timer = setInterval(function(root) {\n",
       "      if (root.Bokeh !== undefined && root.Bokeh.Panel !== undefined) {\n",
       "        clearInterval(timer);\n",
       "        embed_document(root);\n",
       "      } else if (document.readyState == \"complete\") {\n",
       "        attempts++;\n",
       "        if (attempts > 200) {\n",
       "          clearInterval(timer);\n",
       "          console.log(\"Bokeh: ERROR: Unable to run BokehJS code because BokehJS library is missing\");\n",
       "        }\n",
       "      }\n",
       "    }, 25, root)\n",
       "  }\n",
       "})(window);</script>"
      ],
      "text/plain": [
       ":NdOverlay   [class]\n",
       "   :Scatter   [principal component 1]   (principal component 2,class)"
      ]
     },
     "execution_count": 23,
     "metadata": {
      "application/vnd.holoviews_exec.v0+json": {
       "id": "1612"
      }
     },
     "output_type": "execute_result"
    }
   ],
   "source": [
    "# Plotting the clusters\n",
    "df_iris_pca.hvplot.scatter(\n",
    "    x=\"principal component 1\",\n",
    "    y=\"principal component 2\",\n",
    "    hover_cols=[\"class\"],\n",
    "    by=\"class\",\n",
    ")"
   ]
  }
 ],
 "metadata": {
  "kernelspec": {
   "display_name": "mlenv",
   "language": "python",
   "name": "mlenv"
  },
  "language_info": {
   "codemirror_mode": {
    "name": "ipython",
    "version": 3
   },
   "file_extension": ".py",
   "mimetype": "text/x-python",
   "name": "python",
   "nbconvert_exporter": "python",
   "pygments_lexer": "ipython3",
   "version": "3.7.15"
  }
 },
 "nbformat": 4,
 "nbformat_minor": 5
}
